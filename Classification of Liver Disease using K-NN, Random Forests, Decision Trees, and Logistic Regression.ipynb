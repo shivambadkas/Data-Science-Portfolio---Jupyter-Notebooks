{
 "cells": [
  {
   "cell_type": "code",
   "execution_count": 57,
   "id": "directed-contents",
   "metadata": {},
   "outputs": [],
   "source": [
    "import pandas as pd\n",
    "import numpy as np\n",
    "import matplotlib.pyplot as plt\n",
    "import seaborn as sns\n",
    "from sklearn.model_selection import train_test_split\n",
    "from sklearn.ensemble import RandomForestClassifier\n",
    "sns.set()\n",
    "%matplotlib inline"
   ]
  },
  {
   "cell_type": "code",
   "execution_count": 58,
   "id": "solved-peter",
   "metadata": {},
   "outputs": [],
   "source": [
    "#import data\n",
    "data = pd.read_csv(r'/Users/shivambadkas/Downloads/liver.csv')"
   ]
  },
  {
   "cell_type": "code",
   "execution_count": 59,
   "id": "heavy-grenada",
   "metadata": {},
   "outputs": [
    {
     "name": "stdout",
     "output_type": "stream",
     "text": [
      "<class 'pandas.core.frame.DataFrame'>\n",
      "RangeIndex: 583 entries, 0 to 582\n",
      "Data columns (total 11 columns):\n",
      " #   Column                      Non-Null Count  Dtype  \n",
      "---  ------                      --------------  -----  \n",
      " 0   Age                         583 non-null    int64  \n",
      " 1   Gender                      583 non-null    object \n",
      " 2   Total_Bilirubin             583 non-null    float64\n",
      " 3   Direct_Bilirubin            583 non-null    float64\n",
      " 4   Alkaline_Phosphotase        583 non-null    int64  \n",
      " 5   Alamine_Aminotransferase    583 non-null    int64  \n",
      " 6   Aspartate_Aminotransferase  583 non-null    int64  \n",
      " 7   Total_Protiens              583 non-null    float64\n",
      " 8   Albumin                     583 non-null    float64\n",
      " 9   Albumin_and_Globulin_Ratio  579 non-null    float64\n",
      " 10  Dataset                     583 non-null    int64  \n",
      "dtypes: float64(5), int64(5), object(1)\n",
      "memory usage: 50.2+ KB\n"
     ]
    }
   ],
   "source": [
    "(data.head())\n",
    "(data.info())"
   ]
  },
  {
   "cell_type": "code",
   "execution_count": 60,
   "id": "given-privacy",
   "metadata": {},
   "outputs": [
    {
     "name": "stdout",
     "output_type": "stream",
     "text": [
      "Age                           0\n",
      "Gender                        0\n",
      "Total_Bilirubin               0\n",
      "Direct_Bilirubin              0\n",
      "Alkaline_Phosphotase          0\n",
      "Alamine_Aminotransferase      0\n",
      "Aspartate_Aminotransferase    0\n",
      "Total_Protiens                0\n",
      "Albumin                       0\n",
      "Albumin_and_Globulin_Ratio    4\n",
      "Dataset                       0\n",
      "dtype: int64\n"
     ]
    }
   ],
   "source": [
    "#all features numeric except gender, classifier is 1 for liver disease and 2 for none\n",
    "print(data.isnull().sum())"
   ]
  },
  {
   "cell_type": "code",
   "execution_count": 61,
   "id": "faced-administrator",
   "metadata": {},
   "outputs": [],
   "source": [
    "#use scikit imputation to fill in missing values\n",
    "from sklearn.impute import SimpleImputer\n",
    "imp = SimpleImputer(missing_values=np.nan, strategy='mean')\n",
    "data['Albumin_and_Globulin_Ratio']=imp.fit_transform(data[['Albumin_and_Globulin_Ratio']])"
   ]
  },
  {
   "cell_type": "code",
   "execution_count": 62,
   "id": "meaningful-athens",
   "metadata": {},
   "outputs": [
    {
     "data": {
      "text/plain": [
       "Age                           0\n",
       "Gender                        0\n",
       "Total_Bilirubin               0\n",
       "Direct_Bilirubin              0\n",
       "Alkaline_Phosphotase          0\n",
       "Alamine_Aminotransferase      0\n",
       "Aspartate_Aminotransferase    0\n",
       "Total_Protiens                0\n",
       "Albumin                       0\n",
       "Albumin_and_Globulin_Ratio    0\n",
       "Dataset                       0\n",
       "dtype: int64"
      ]
     },
     "execution_count": 62,
     "metadata": {},
     "output_type": "execute_result"
    }
   ],
   "source": [
    "data.isnull().sum()"
   ]
  },
  {
   "cell_type": "code",
   "execution_count": 73,
   "id": "proper-expert",
   "metadata": {},
   "outputs": [
    {
     "data": {
      "text/html": [
       "<style  type=\"text/css\" >\n",
       "#T_b5c67_row0_col0,#T_b5c67_row1_col1,#T_b5c67_row2_col2,#T_b5c67_row3_col3,#T_b5c67_row4_col4,#T_b5c67_row5_col5,#T_b5c67_row6_col6,#T_b5c67_row7_col7,#T_b5c67_row8_col8{\n",
       "            background-color:  #b40426;\n",
       "            color:  #f1f1f1;\n",
       "        }#T_b5c67_row0_col1,#T_b5c67_row0_col2,#T_b5c67_row5_col0{\n",
       "            background-color:  #799cf8;\n",
       "            color:  #000000;\n",
       "        }#T_b5c67_row0_col3{\n",
       "            background-color:  #8fb1fe;\n",
       "            color:  #000000;\n",
       "        }#T_b5c67_row0_col4,#T_b5c67_row0_col6,#T_b5c67_row0_col7,#T_b5c67_row3_col8,#T_b5c67_row7_col0,#T_b5c67_row7_col1,#T_b5c67_row7_col2,#T_b5c67_row7_col5,#T_b5c67_row8_col3{\n",
       "            background-color:  #3b4cc0;\n",
       "            color:  #f1f1f1;\n",
       "        }#T_b5c67_row0_col5,#T_b5c67_row6_col0{\n",
       "            background-color:  #4c66d6;\n",
       "            color:  #000000;\n",
       "        }#T_b5c67_row0_col8,#T_b5c67_row8_col1,#T_b5c67_row8_col5{\n",
       "            background-color:  #3e51c5;\n",
       "            color:  #f1f1f1;\n",
       "        }#T_b5c67_row1_col0{\n",
       "            background-color:  #82a6fb;\n",
       "            color:  #000000;\n",
       "        }#T_b5c67_row1_col2,#T_b5c67_row2_col1{\n",
       "            background-color:  #d75445;\n",
       "            color:  #000000;\n",
       "        }#T_b5c67_row1_col3,#T_b5c67_row4_col1{\n",
       "            background-color:  #b2ccfb;\n",
       "            color:  #000000;\n",
       "        }#T_b5c67_row1_col4,#T_b5c67_row3_col0{\n",
       "            background-color:  #96b7ff;\n",
       "            color:  #000000;\n",
       "        }#T_b5c67_row1_col5{\n",
       "            background-color:  #9ebeff;\n",
       "            color:  #000000;\n",
       "        }#T_b5c67_row1_col6{\n",
       "            background-color:  #6a8bef;\n",
       "            color:  #000000;\n",
       "        }#T_b5c67_row1_col7{\n",
       "            background-color:  #445acc;\n",
       "            color:  #f1f1f1;\n",
       "        }#T_b5c67_row1_col8,#T_b5c67_row8_col2{\n",
       "            background-color:  #4055c8;\n",
       "            color:  #f1f1f1;\n",
       "        }#T_b5c67_row2_col0{\n",
       "            background-color:  #81a4fb;\n",
       "            color:  #000000;\n",
       "        }#T_b5c67_row2_col3,#T_b5c67_row6_col8{\n",
       "            background-color:  #bad0f8;\n",
       "            color:  #000000;\n",
       "        }#T_b5c67_row2_col4{\n",
       "            background-color:  #9dbdff;\n",
       "            color:  #000000;\n",
       "        }#T_b5c67_row2_col5{\n",
       "            background-color:  #a3c2fe;\n",
       "            color:  #000000;\n",
       "        }#T_b5c67_row2_col6{\n",
       "            background-color:  #6c8ff1;\n",
       "            color:  #000000;\n",
       "        }#T_b5c67_row2_col7,#T_b5c67_row2_col8{\n",
       "            background-color:  #4358cb;\n",
       "            color:  #f1f1f1;\n",
       "        }#T_b5c67_row3_col1{\n",
       "            background-color:  #afcafc;\n",
       "            color:  #000000;\n",
       "        }#T_b5c67_row3_col2,#T_b5c67_row4_col2,#T_b5c67_row5_col1{\n",
       "            background-color:  #b9d0f9;\n",
       "            color:  #000000;\n",
       "        }#T_b5c67_row3_col4{\n",
       "            background-color:  #7a9df8;\n",
       "            color:  #000000;\n",
       "        }#T_b5c67_row3_col5{\n",
       "            background-color:  #86a9fc;\n",
       "            color:  #000000;\n",
       "        }#T_b5c67_row3_col6,#T_b5c67_row5_col6,#T_b5c67_row5_col8{\n",
       "            background-color:  #6485ec;\n",
       "            color:  #000000;\n",
       "        }#T_b5c67_row3_col7{\n",
       "            background-color:  #536edd;\n",
       "            color:  #000000;\n",
       "        }#T_b5c67_row4_col0,#T_b5c67_row5_col7{\n",
       "            background-color:  #6788ee;\n",
       "            color:  #000000;\n",
       "        }#T_b5c67_row4_col3{\n",
       "            background-color:  #9bbcff;\n",
       "            color:  #000000;\n",
       "        }#T_b5c67_row4_col5{\n",
       "            background-color:  #ec8165;\n",
       "            color:  #000000;\n",
       "        }#T_b5c67_row4_col6{\n",
       "            background-color:  #6180e9;\n",
       "            color:  #000000;\n",
       "        }#T_b5c67_row4_col7,#T_b5c67_row6_col2{\n",
       "            background-color:  #7699f6;\n",
       "            color:  #000000;\n",
       "        }#T_b5c67_row4_col8{\n",
       "            background-color:  #779af7;\n",
       "            color:  #000000;\n",
       "        }#T_b5c67_row5_col2{\n",
       "            background-color:  #bfd3f6;\n",
       "            color:  #000000;\n",
       "        }#T_b5c67_row5_col3{\n",
       "            background-color:  #a7c5fe;\n",
       "            color:  #000000;\n",
       "        }#T_b5c67_row5_col4{\n",
       "            background-color:  #ec7f63;\n",
       "            color:  #000000;\n",
       "        }#T_b5c67_row6_col1{\n",
       "            background-color:  #7295f4;\n",
       "            color:  #000000;\n",
       "        }#T_b5c67_row6_col3{\n",
       "            background-color:  #6f92f3;\n",
       "            color:  #000000;\n",
       "        }#T_b5c67_row6_col4,#T_b5c67_row8_col0{\n",
       "            background-color:  #465ecf;\n",
       "            color:  #f1f1f1;\n",
       "        }#T_b5c67_row6_col5,#T_b5c67_row7_col3{\n",
       "            background-color:  #4b64d5;\n",
       "            color:  #f1f1f1;\n",
       "        }#T_b5c67_row6_col7{\n",
       "            background-color:  #e8765c;\n",
       "            color:  #000000;\n",
       "        }#T_b5c67_row7_col4{\n",
       "            background-color:  #4a63d3;\n",
       "            color:  #f1f1f1;\n",
       "        }#T_b5c67_row7_col6{\n",
       "            background-color:  #ea7b60;\n",
       "            color:  #000000;\n",
       "        }#T_b5c67_row7_col8{\n",
       "            background-color:  #f59c7d;\n",
       "            color:  #000000;\n",
       "        }#T_b5c67_row8_col4{\n",
       "            background-color:  #516ddb;\n",
       "            color:  #000000;\n",
       "        }#T_b5c67_row8_col6{\n",
       "            background-color:  #b1cbfc;\n",
       "            color:  #000000;\n",
       "        }#T_b5c67_row8_col7{\n",
       "            background-color:  #f4987a;\n",
       "            color:  #000000;\n",
       "        }</style><table id=\"T_b5c67_\" ><thead>    <tr>        <th class=\"blank level0\" ></th>        <th class=\"col_heading level0 col0\" >Age</th>        <th class=\"col_heading level0 col1\" >Total_Bilirubin</th>        <th class=\"col_heading level0 col2\" >Direct_Bilirubin</th>        <th class=\"col_heading level0 col3\" >Alkaline_Phosphotase</th>        <th class=\"col_heading level0 col4\" >Alamine_Aminotransferase</th>        <th class=\"col_heading level0 col5\" >Aspartate_Aminotransferase</th>        <th class=\"col_heading level0 col6\" >Total_Protiens</th>        <th class=\"col_heading level0 col7\" >Albumin</th>        <th class=\"col_heading level0 col8\" >Albumin_and_Globulin_Ratio</th>    </tr></thead><tbody>\n",
       "                <tr>\n",
       "                        <th id=\"T_b5c67_level0_row0\" class=\"row_heading level0 row0\" >Age</th>\n",
       "                        <td id=\"T_b5c67_row0_col0\" class=\"data row0 col0\" >1.000000</td>\n",
       "                        <td id=\"T_b5c67_row0_col1\" class=\"data row0 col1\" >0.011763</td>\n",
       "                        <td id=\"T_b5c67_row0_col2\" class=\"data row0 col2\" >0.007529</td>\n",
       "                        <td id=\"T_b5c67_row0_col3\" class=\"data row0 col3\" >0.080425</td>\n",
       "                        <td id=\"T_b5c67_row0_col4\" class=\"data row0 col4\" >-0.086883</td>\n",
       "                        <td id=\"T_b5c67_row0_col5\" class=\"data row0 col5\" >-0.019910</td>\n",
       "                        <td id=\"T_b5c67_row0_col6\" class=\"data row0 col6\" >-0.187461</td>\n",
       "                        <td id=\"T_b5c67_row0_col7\" class=\"data row0 col7\" >-0.265924</td>\n",
       "                        <td id=\"T_b5c67_row0_col8\" class=\"data row0 col8\" >-0.216089</td>\n",
       "            </tr>\n",
       "            <tr>\n",
       "                        <th id=\"T_b5c67_level0_row1\" class=\"row_heading level0 row1\" >Total_Bilirubin</th>\n",
       "                        <td id=\"T_b5c67_row1_col0\" class=\"data row1 col0\" >0.011763</td>\n",
       "                        <td id=\"T_b5c67_row1_col1\" class=\"data row1 col1\" >1.000000</td>\n",
       "                        <td id=\"T_b5c67_row1_col2\" class=\"data row1 col2\" >0.874618</td>\n",
       "                        <td id=\"T_b5c67_row1_col3\" class=\"data row1 col3\" >0.206669</td>\n",
       "                        <td id=\"T_b5c67_row1_col4\" class=\"data row1 col4\" >0.214065</td>\n",
       "                        <td id=\"T_b5c67_row1_col5\" class=\"data row1 col5\" >0.237831</td>\n",
       "                        <td id=\"T_b5c67_row1_col6\" class=\"data row1 col6\" >-0.008099</td>\n",
       "                        <td id=\"T_b5c67_row1_col7\" class=\"data row1 col7\" >-0.222250</td>\n",
       "                        <td id=\"T_b5c67_row1_col8\" class=\"data row1 col8\" >-0.206159</td>\n",
       "            </tr>\n",
       "            <tr>\n",
       "                        <th id=\"T_b5c67_level0_row2\" class=\"row_heading level0 row2\" >Direct_Bilirubin</th>\n",
       "                        <td id=\"T_b5c67_row2_col0\" class=\"data row2 col0\" >0.007529</td>\n",
       "                        <td id=\"T_b5c67_row2_col1\" class=\"data row2 col1\" >0.874618</td>\n",
       "                        <td id=\"T_b5c67_row2_col2\" class=\"data row2 col2\" >1.000000</td>\n",
       "                        <td id=\"T_b5c67_row2_col3\" class=\"data row2 col3\" >0.234939</td>\n",
       "                        <td id=\"T_b5c67_row2_col4\" class=\"data row2 col4\" >0.233894</td>\n",
       "                        <td id=\"T_b5c67_row2_col5\" class=\"data row2 col5\" >0.257544</td>\n",
       "                        <td id=\"T_b5c67_row2_col6\" class=\"data row2 col6\" >-0.000139</td>\n",
       "                        <td id=\"T_b5c67_row2_col7\" class=\"data row2 col7\" >-0.228531</td>\n",
       "                        <td id=\"T_b5c67_row2_col8\" class=\"data row2 col8\" >-0.200004</td>\n",
       "            </tr>\n",
       "            <tr>\n",
       "                        <th id=\"T_b5c67_level0_row3\" class=\"row_heading level0 row3\" >Alkaline_Phosphotase</th>\n",
       "                        <td id=\"T_b5c67_row3_col0\" class=\"data row3 col0\" >0.080425</td>\n",
       "                        <td id=\"T_b5c67_row3_col1\" class=\"data row3 col1\" >0.206669</td>\n",
       "                        <td id=\"T_b5c67_row3_col2\" class=\"data row3 col2\" >0.234939</td>\n",
       "                        <td id=\"T_b5c67_row3_col3\" class=\"data row3 col3\" >1.000000</td>\n",
       "                        <td id=\"T_b5c67_row3_col4\" class=\"data row3 col4\" >0.125680</td>\n",
       "                        <td id=\"T_b5c67_row3_col5\" class=\"data row3 col5\" >0.167196</td>\n",
       "                        <td id=\"T_b5c67_row3_col6\" class=\"data row3 col6\" >-0.028514</td>\n",
       "                        <td id=\"T_b5c67_row3_col7\" class=\"data row3 col7\" >-0.165453</td>\n",
       "                        <td id=\"T_b5c67_row3_col8\" class=\"data row3 col8\" >-0.233960</td>\n",
       "            </tr>\n",
       "            <tr>\n",
       "                        <th id=\"T_b5c67_level0_row4\" class=\"row_heading level0 row4\" >Alamine_Aminotransferase</th>\n",
       "                        <td id=\"T_b5c67_row4_col0\" class=\"data row4 col0\" >-0.086883</td>\n",
       "                        <td id=\"T_b5c67_row4_col1\" class=\"data row4 col1\" >0.214065</td>\n",
       "                        <td id=\"T_b5c67_row4_col2\" class=\"data row4 col2\" >0.233894</td>\n",
       "                        <td id=\"T_b5c67_row4_col3\" class=\"data row4 col3\" >0.125680</td>\n",
       "                        <td id=\"T_b5c67_row4_col4\" class=\"data row4 col4\" >1.000000</td>\n",
       "                        <td id=\"T_b5c67_row4_col5\" class=\"data row4 col5\" >0.791966</td>\n",
       "                        <td id=\"T_b5c67_row4_col6\" class=\"data row4 col6\" >-0.042518</td>\n",
       "                        <td id=\"T_b5c67_row4_col7\" class=\"data row4 col7\" >-0.029742</td>\n",
       "                        <td id=\"T_b5c67_row4_col8\" class=\"data row4 col8\" >-0.002374</td>\n",
       "            </tr>\n",
       "            <tr>\n",
       "                        <th id=\"T_b5c67_level0_row5\" class=\"row_heading level0 row5\" >Aspartate_Aminotransferase</th>\n",
       "                        <td id=\"T_b5c67_row5_col0\" class=\"data row5 col0\" >-0.019910</td>\n",
       "                        <td id=\"T_b5c67_row5_col1\" class=\"data row5 col1\" >0.237831</td>\n",
       "                        <td id=\"T_b5c67_row5_col2\" class=\"data row5 col2\" >0.257544</td>\n",
       "                        <td id=\"T_b5c67_row5_col3\" class=\"data row5 col3\" >0.167196</td>\n",
       "                        <td id=\"T_b5c67_row5_col4\" class=\"data row5 col4\" >0.791966</td>\n",
       "                        <td id=\"T_b5c67_row5_col5\" class=\"data row5 col5\" >1.000000</td>\n",
       "                        <td id=\"T_b5c67_row5_col6\" class=\"data row5 col6\" >-0.025645</td>\n",
       "                        <td id=\"T_b5c67_row5_col7\" class=\"data row5 col7\" >-0.085290</td>\n",
       "                        <td id=\"T_b5c67_row5_col8\" class=\"data row5 col8\" >-0.070024</td>\n",
       "            </tr>\n",
       "            <tr>\n",
       "                        <th id=\"T_b5c67_level0_row6\" class=\"row_heading level0 row6\" >Total_Protiens</th>\n",
       "                        <td id=\"T_b5c67_row6_col0\" class=\"data row6 col0\" >-0.187461</td>\n",
       "                        <td id=\"T_b5c67_row6_col1\" class=\"data row6 col1\" >-0.008099</td>\n",
       "                        <td id=\"T_b5c67_row6_col2\" class=\"data row6 col2\" >-0.000139</td>\n",
       "                        <td id=\"T_b5c67_row6_col3\" class=\"data row6 col3\" >-0.028514</td>\n",
       "                        <td id=\"T_b5c67_row6_col4\" class=\"data row6 col4\" >-0.042518</td>\n",
       "                        <td id=\"T_b5c67_row6_col5\" class=\"data row6 col5\" >-0.025645</td>\n",
       "                        <td id=\"T_b5c67_row6_col6\" class=\"data row6 col6\" >1.000000</td>\n",
       "                        <td id=\"T_b5c67_row6_col7\" class=\"data row6 col7\" >0.784053</td>\n",
       "                        <td id=\"T_b5c67_row6_col8\" class=\"data row6 col8\" >0.233904</td>\n",
       "            </tr>\n",
       "            <tr>\n",
       "                        <th id=\"T_b5c67_level0_row7\" class=\"row_heading level0 row7\" >Albumin</th>\n",
       "                        <td id=\"T_b5c67_row7_col0\" class=\"data row7 col0\" >-0.265924</td>\n",
       "                        <td id=\"T_b5c67_row7_col1\" class=\"data row7 col1\" >-0.222250</td>\n",
       "                        <td id=\"T_b5c67_row7_col2\" class=\"data row7 col2\" >-0.228531</td>\n",
       "                        <td id=\"T_b5c67_row7_col3\" class=\"data row7 col3\" >-0.165453</td>\n",
       "                        <td id=\"T_b5c67_row7_col4\" class=\"data row7 col4\" >-0.029742</td>\n",
       "                        <td id=\"T_b5c67_row7_col5\" class=\"data row7 col5\" >-0.085290</td>\n",
       "                        <td id=\"T_b5c67_row7_col6\" class=\"data row7 col6\" >0.784053</td>\n",
       "                        <td id=\"T_b5c67_row7_col7\" class=\"data row7 col7\" >1.000000</td>\n",
       "                        <td id=\"T_b5c67_row7_col8\" class=\"data row7 col8\" >0.686322</td>\n",
       "            </tr>\n",
       "            <tr>\n",
       "                        <th id=\"T_b5c67_level0_row8\" class=\"row_heading level0 row8\" >Albumin_and_Globulin_Ratio</th>\n",
       "                        <td id=\"T_b5c67_row8_col0\" class=\"data row8 col0\" >-0.216089</td>\n",
       "                        <td id=\"T_b5c67_row8_col1\" class=\"data row8 col1\" >-0.206159</td>\n",
       "                        <td id=\"T_b5c67_row8_col2\" class=\"data row8 col2\" >-0.200004</td>\n",
       "                        <td id=\"T_b5c67_row8_col3\" class=\"data row8 col3\" >-0.233960</td>\n",
       "                        <td id=\"T_b5c67_row8_col4\" class=\"data row8 col4\" >-0.002374</td>\n",
       "                        <td id=\"T_b5c67_row8_col5\" class=\"data row8 col5\" >-0.070024</td>\n",
       "                        <td id=\"T_b5c67_row8_col6\" class=\"data row8 col6\" >0.233904</td>\n",
       "                        <td id=\"T_b5c67_row8_col7\" class=\"data row8 col7\" >0.686322</td>\n",
       "                        <td id=\"T_b5c67_row8_col8\" class=\"data row8 col8\" >1.000000</td>\n",
       "            </tr>\n",
       "    </tbody></table>"
      ],
      "text/plain": [
       "<pandas.io.formats.style.Styler at 0x1320e80d0>"
      ]
     },
     "execution_count": 73,
     "metadata": {},
     "output_type": "execute_result"
    },
    {
     "data": {
      "text/plain": [
       "<Figure size 1152x432 with 0 Axes>"
      ]
     },
     "metadata": {},
     "output_type": "display_data"
    }
   ],
   "source": [
    "#EDA: make correlation heatmap to see which features are correlated if any\n",
    "X = data.drop(['Gender','Dataset'], axis=1)\n",
    "plt.figure(figsize=(16, 6))\n",
    "y = data['Dataset'] \n",
    "X.corr().style.background_gradient(cmap='coolwarm')"
   ]
  },
  {
   "cell_type": "code",
   "execution_count": 64,
   "id": "neither-drill",
   "metadata": {},
   "outputs": [
    {
     "name": "stdout",
     "output_type": "stream",
     "text": [
      "Number of patients diagnosed with liver disease:  416\n",
      "Number of patients not diagnosed with liver disease:  167\n"
     ]
    },
    {
     "data": {
      "image/png": "[encoded data removed]",
      "text/plain": [
       "<Figure size 432x288 with 1 Axes>"
      ]
     },
     "metadata": {
      "needs_background": "light"
     },
     "output_type": "display_data"
    }
   ],
   "source": [
    "sns.countplot(data = data, x = 'Dataset', label='Count')\n",
    "LD, NLD = data['Dataset'].value_counts()\n",
    "print('Number of patients diagnosed with liver disease: ',LD)\n",
    "print('Number of patients not diagnosed with liver disease: ',NLD)"
   ]
  },
  {
   "cell_type": "code",
   "execution_count": 66,
   "id": "iraqi-character",
   "metadata": {},
   "outputs": [
    {
     "name": "stdout",
     "output_type": "stream",
     "text": [
      "Number of patients that are male:  441\n",
      "Number of patients that are female:  142\n"
     ]
    },
    {
     "data": {
      "image/png": "[encoded data removed]",
      "text/plain": [
       "<Figure size 432x288 with 1 Axes>"
      ]
     },
     "metadata": {
      "needs_background": "light"
     },
     "output_type": "display_data"
    }
   ],
   "source": [
    "sns.countplot(data=data, x = 'Gender', label='Count')\n",
    "M, F = data['Gender'].value_counts()\n",
    "print('Number of patients that are male: ',M)\n",
    "print('Number of patients that are female: ',F)"
   ]
  },
  {
   "cell_type": "code",
   "execution_count": 71,
   "id": "urban-mechanism",
   "metadata": {},
   "outputs": [],
   "source": [
    "#import scikit modules\n",
    "from sklearn.model_selection import train_test_split\n",
    "from sklearn.tree import DecisionTreeClassifier\n",
    "from sklearn.neighbors import KNeighborsClassifier as KNN\n",
    "from sklearn.linear_model import LogisticRegression\n",
    "from sklearn.metrics import accuracy_score\n",
    "from sklearn.preprocessing import MinMaxScaler\n",
    "from sklearn.ensemble import RandomForestClassifier\n",
    "from sklearn.metrics import roc_curve, roc_auc_score"
   ]
  },
  {
   "cell_type": "code",
   "execution_count": 94,
   "id": "atmospheric-therapist",
   "metadata": {},
   "outputs": [
    {
     "name": "stdout",
     "output_type": "stream",
     "text": [
      "(408, 9)\n",
      "(408,)\n",
      "(175, 9)\n",
      "(175,)\n"
     ]
    }
   ],
   "source": [
    "#create cross validation sets\n",
    "X_train, X_test, y_train, y_test = train_test_split(X, y, test_size = 0.3, random_state = 101)\n",
    "print (X_train.shape)\n",
    "print (y_train.shape)\n",
    "print (X_test.shape)\n",
    "print (y_test.shape)"
   ]
  },
  {
   "cell_type": "code",
   "execution_count": 95,
   "id": "rotary-bulgarian",
   "metadata": {},
   "outputs": [
    {
     "name": "stdout",
     "output_type": "stream",
     "text": [
      "Test set accuracy of dt: 0.69\n"
     ]
    }
   ],
   "source": [
    "# Decision tree \n",
    "dt = DecisionTreeClassifier(max_depth=4,min_samples_leaf=0.14,random_state=1)\n",
    "dt.fit(X_train,y_train)\n",
    "dt_y_pred = dt.predict(X_test)\n",
    "dt_accuracy = accuracy_score(y_test, dt_y_pred)\n",
    "print('Test set accuracy of dt: {:.2f}'.format(dt_accuracy)) "
   ]
  },
  {
   "cell_type": "code",
   "execution_count": 96,
   "id": "swiss-spelling",
   "metadata": {},
   "outputs": [
    {
     "name": "stdout",
     "output_type": "stream",
     "text": [
      "Test set accuracy of dt: 0.70\n"
     ]
    }
   ],
   "source": [
    "#Logistic Regression\n",
    "lr = LogisticRegression(solver='lbfgs', multi_class='ovr', max_iter = 1000)\n",
    "lr.fit(X_train, y_train)\n",
    "lr_y_pred = lr.predict(X_test)\n",
    "lr_accuracy = accuracy_score(y_test, lr_y_pred)\n",
    "print('Test set accuracy of dt: {:.2f}'.format(lr_accuracy)) "
   ]
  },
  {
   "cell_type": "code",
   "execution_count": 97,
   "id": "colonial-timeline",
   "metadata": {},
   "outputs": [
    {
     "name": "stdout",
     "output_type": "stream",
     "text": [
      "Test set accuracy of dt: 0.65\n"
     ]
    }
   ],
   "source": [
    "#K-Nearest Neighbors\n",
    "KNN_1 = KNN(n_neighbors = 10)\n",
    "KNN_1.fit(X_train,y_train)\n",
    "KNN_y_pred = KNN_1.predict(X_test)\n",
    "KNN_accuracy = accuracy_score(y_test, KNN_y_pred)\n",
    "print('Test set accuracy of dt: {:.2f}'.format(KNN_accuracy)) "
   ]
  },
  {
   "cell_type": "code",
   "execution_count": 98,
   "id": "realistic-august",
   "metadata": {},
   "outputs": [
    {
     "name": "stdout",
     "output_type": "stream",
     "text": [
      "Test set accuracy of dt: 0.65\n"
     ]
    }
   ],
   "source": [
    "#Random Forest Classifier \n",
    "rf = RandomForestClassifier(n_estimators=25, random_state=1)\n",
    "rf.fit(X_train,y_train)\n",
    "rf_y_pred = rf.predict(X_test)\n",
    "rf_accuracy = accuracy_score(y_test, rf_y_pred)\n",
    "print('Test set accuracy of dt: {:.2f}'.format(r_accuracy)) "
   ]
  },
  {
   "cell_type": "code",
   "execution_count": 101,
   "id": "sensitive-traveler",
   "metadata": {},
   "outputs": [
    {
     "data": {
      "image/png": "[encoded data removed]",
      "text/plain": [
       "<Figure size 432x288 with 1 Axes>"
      ]
     },
     "metadata": {
      "needs_background": "light"
     },
     "output_type": "display_data"
    }
   ],
   "source": [
    "#Use random forest to see feature importance\n",
    "importance = pd.Series(data=rf.feature_importances_,\n",
    "                        index= X_train.columns)\n",
    "#sort\n",
    "importance_sorted = importance.sort_values()\n",
    "\n",
    "importance_sorted.plot(kind='barh', color='lightgreen')\n",
    "plt.title('Features Importances')\n",
    "plt.show()"
   ]
  },
  {
   "cell_type": "code",
   "execution_count": 103,
   "id": "tribal-special",
   "metadata": {},
   "outputs": [
    {
     "name": "stdout",
     "output_type": "stream",
     "text": [
      "Decision Tree : 0.686\n",
      "Logistic Regression : 0.697\n",
      "KNN : 0.651\n",
      "Random Forest : 0.691\n"
     ]
    }
   ],
   "source": [
    "#create tuple of tests to automate. Observe that the pattern follows a define -> fit -> predict -> test accuracy pipeline\n",
    "classifiers = [('Decision Tree',dt),('Logistic Regression',lr),('KNN',KNN_1), ('Random Forest', rf)]\n",
    "\n",
    "#for loop to iterate through \n",
    "\n",
    "for clf_name, clf in classifiers:\n",
    "    clf.fit(X_train,y_train)\n",
    "    y_pred = clf.predict(X_test)\n",
    "    print('{:s} : {:.3f}'.format(clf_name, accuracy_score(y_test, y_pred)))"
   ]
  },
  {
   "cell_type": "code",
   "execution_count": 106,
   "id": "dimensional-tooth",
   "metadata": {},
   "outputs": [
    {
     "name": "stdout",
     "output_type": "stream",
     "text": [
      "ROC DecisionTree:  0.6856419987349779\n",
      "ROC Logistic Regression:  0.7365591397849462\n",
      "ROC KNN:  0.6859582542694497\n",
      "ROC Random Forest:  0.7283364958886781\n"
     ]
    }
   ],
   "source": [
    "#Model Evaluation: ROC Curves; trade-off between recall and specificity, basically 0s get labelled as 1s when \n",
    "#you capture more 1s, ROC curve plots sensitivity on y-axis and specificity on y-axis. Need to sort probability \n",
    "#of each record being a 1 from most to least likely, then compute cumulative specificity and recall \n",
    "#first find probability of a record being 1 \n",
    "y_score1 = dt.predict_proba(X_test)[:,1]\n",
    "y_score2 = lr.predict_proba(X_test)[:,1]\n",
    "y_score3 = KNN_1.predict_proba(X_test)[:,1]\n",
    "y_score4 = rf.predict_proba(X_test)[:,1]\n",
    "\n",
    "#Find AUC score, an ineffective classifier will have a value of 0.5. Larger AUC value means better classifier\n",
    "print('ROC DecisionTree: ', roc_auc_score(y_test, y_score1))\n",
    "print('ROC Logistic Regression: ', roc_auc_score(y_test, y_score2))\n",
    "print('ROC KNN: ', roc_auc_score(y_test, y_score3))\n",
    "print('ROC Random Forest: ', roc_auc_score(y_test, y_score4))"
   ]
  },
  {
   "cell_type": "code",
   "execution_count": 113,
   "id": "soviet-tuition",
   "metadata": {},
   "outputs": [
    {
     "data": {
      "text/html": [
       "<div>\n",
       "<style scoped>\n",
       "    .dataframe tbody tr th:only-of-type {\n",
       "        vertical-align: middle;\n",
       "    }\n",
       "\n",
       "    .dataframe tbody tr th {\n",
       "        vertical-align: top;\n",
       "    }\n",
       "\n",
       "    .dataframe thead th {\n",
       "        text-align: right;\n",
       "    }\n",
       "</style>\n",
       "<table border=\"1\" class=\"dataframe\">\n",
       "  <thead>\n",
       "    <tr style=\"text-align: right;\">\n",
       "      <th></th>\n",
       "      <th>Model</th>\n",
       "      <th>Roc_Score</th>\n",
       "      <th>Accuracy_Score</th>\n",
       "    </tr>\n",
       "  </thead>\n",
       "  <tbody>\n",
       "    <tr>\n",
       "      <th>1</th>\n",
       "      <td>Logistic Regression</td>\n",
       "      <td>0.736559</td>\n",
       "      <td>0.697143</td>\n",
       "    </tr>\n",
       "    <tr>\n",
       "      <th>3</th>\n",
       "      <td>Random Forest Classifier</td>\n",
       "      <td>0.728336</td>\n",
       "      <td>0.691429</td>\n",
       "    </tr>\n",
       "    <tr>\n",
       "      <th>2</th>\n",
       "      <td>KNN</td>\n",
       "      <td>0.685958</td>\n",
       "      <td>0.651429</td>\n",
       "    </tr>\n",
       "    <tr>\n",
       "      <th>0</th>\n",
       "      <td>Decision Tree</td>\n",
       "      <td>0.685642</td>\n",
       "      <td>0.685714</td>\n",
       "    </tr>\n",
       "  </tbody>\n",
       "</table>\n",
       "</div>"
      ],
      "text/plain": [
       "                      Model  Roc_Score  Accuracy_Score\n",
       "1       Logistic Regression   0.736559        0.697143\n",
       "3  Random Forest Classifier   0.728336        0.691429\n",
       "2                       KNN   0.685958        0.651429\n",
       "0             Decision Tree   0.685642        0.685714"
      ]
     },
     "execution_count": 113,
     "metadata": {},
     "output_type": "execute_result"
    }
   ],
   "source": [
    "\n",
    "results = pd.DataFrame({'Model': ['Decision Tree','Logistic Regression', 'KNN','Random Forest Classifier'],  'Roc_Score': [roc_auc_score(y_test, y_score1), roc_auc_score(y_test, y_score2),roc_auc_score(y_test, y_score3), roc_auc_score(y_test, y_score4)],\n",
    "                       'Accuracy_Score': [dt_acc_test, lr_acc_test,KNN_accuracy, rf_accuracy]})\n",
    "df_results = results.sort_values(by='Roc_Score', ascending=False)\n",
    "df_results"
   ]
  },
  {
   "cell_type": "code",
   "execution_count": null,
   "id": "martial-macintosh",
   "metadata": {},
   "outputs": [],
   "source": []
  }
 ],
 "metadata": {
  "kernelspec": {
   "display_name": "Python 3",
   "language": "python",
   "name": "python3"
  },
  "language_info": {
   "codemirror_mode": {
    "name": "ipython",
    "version": 3
   },
   "file_extension": ".py",
   "mimetype": "text/x-python",
   "name": "python",
   "nbconvert_exporter": "python",
   "pygments_lexer": "ipython3",
   "version": "3.8.6"
  }
 },
 "nbformat": 4,
 "nbformat_minor": 5
}
